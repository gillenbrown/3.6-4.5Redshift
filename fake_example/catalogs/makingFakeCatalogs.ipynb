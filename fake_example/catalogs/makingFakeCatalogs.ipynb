{
 "metadata": {
  "name": "",
  "signature": "sha256:bda23c4aaa9c0164584287fa4a0a6130f1d7b3528586f99f4b6f3330b4745315"
 },
 "nbformat": 3,
 "nbformat_minor": 0,
 "worksheets": [
  {
   "cells": [
    {
     "cell_type": "code",
     "collapsed": false,
     "input": [
      "import random"
     ],
     "language": "python",
     "metadata": {},
     "outputs": [],
     "prompt_number": 2
    },
    {
     "cell_type": "code",
     "collapsed": false,
     "input": [
      "header = \"# id   ra    dec      ch1     ech1     ch2     ech2\\n\"\n",
      "for i in range(0, 20):\n",
      "    catalog = header\n",
      "    for j in range(0, 300):\n",
      "        ra = random.uniform(0.2, 0.3)\n",
      "        dec = random.uniform(0.5, 0.6)\n",
      "        ch2 = random.uniform(18.5, 22.5)\n",
      "        ch1 = ch2 + random.uniform(-0.9, 0.4)\n",
      "        ech1 = random.uniform(0, 0.15)\n",
      "        ech2 = random.uniform(0, 0.15)\n",
      "        line = \"\\t\".join([str(item) for item in [ra, dec, ch1, ech1, ch2, ech2]])\n",
      "        catalog += line\n",
      "        catalog += \"\\n\"\n",
      "    file_name = \"test\" + str(i) + \".cat\"\n",
      "    cat_file = open(\"/Users/gbbtz7/GoogleDrive/Research/Data/Catalogs/Provided/IRAC/2015run/\" + file_name, \"w\")\n",
      "    cat_file.write(catalog)\n",
      "    cat_file.close()\n",
      "    \n",
      "        \n",
      "    "
     ],
     "language": "python",
     "metadata": {},
     "outputs": [],
     "prompt_number": 4
    },
    {
     "cell_type": "code",
     "collapsed": false,
     "input": [],
     "language": "python",
     "metadata": {},
     "outputs": []
    }
   ],
   "metadata": {}
  }
 ]
}