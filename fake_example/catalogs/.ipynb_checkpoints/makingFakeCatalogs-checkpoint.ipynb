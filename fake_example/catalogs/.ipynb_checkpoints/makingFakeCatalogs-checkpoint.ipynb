{
 "metadata": {
  "name": "",
  "signature": "sha256:952e85043f86e158bc14adfe71e37b68fb935fd9b28e0b303ac89c5f57d71f42"
 },
 "nbformat": 3,
 "nbformat_minor": 0,
 "worksheets": []
}