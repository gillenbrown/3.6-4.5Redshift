{
 "metadata": {
  "name": "",
  "signature": "sha256:77494e31c81e5174985f17e00227fabbd22d3ef95bc1777c32e381a701260478"
 },
 "nbformat": 3,
 "nbformat_minor": 0,
 "worksheets": [
  {
   "cells": [
    {
     "cell_type": "markdown",
     "metadata": {},
     "source": [
      "This notebook will find the redshifts at which ch1-ch2 sees various colors as used by Eisenhardt 2007, and then determine what the slope is at those redshifts. These values are copied by hand into the code, so they don't have to be calculated each time the code is run."
     ]
    },
    {
     "cell_type": "code",
     "collapsed": false,
     "input": [
      "%matplotlib inline\n",
      "import numpy as npimport \n",
      "import matplotlib.pyplot as plt"
     ],
     "language": "python",
     "metadata": {},
     "outputs": [],
     "prompt_number": 39
    },
    {
     "cell_type": "markdown",
     "metadata": {},
     "source": [
      "I'll use the pivot wavelength for ch1 and ch2 as found here: http://www.baryons.org/ezgal/filters.php"
     ]
    },
    {
     "cell_type": "code",
     "collapsed": false,
     "input": [
      "ch1 = 35569 \n",
      "ch2 = 45020 "
     ],
     "language": "python",
     "metadata": {},
     "outputs": [],
     "prompt_number": 2
    },
    {
     "cell_type": "markdown",
     "metadata": {},
     "source": [
      "Eisenhardt provided filter curves of the filters used to observe Coma, so we will use those to determine the pivot wavelength of those filters. These curves can be downloaded from the online article. They are Table 12. http://iopscience.iop.org/0067-0049/169/2/225/fulltext/ \n",
      "\n",
      "I downloaded them already and are in this directory, so we will just open them and calculate the pivot wavelength for each. (Note: I did add # in front of each of the header lines manually to make the file easier to parse)"
     ]
    },
    {
     "cell_type": "code",
     "collapsed": false,
     "input": [
      "with open(\"filters.txt\") as filter_file:\n",
      "    filter_dict = dict()\n",
      "    for line in filter_file:\n",
      "        if not line.startswith(\"#\"):\n",
      "            band, wavelength, response = line.split()  # since we know how the file is formatted\n",
      "            if band not in filter_dict:\n",
      "                # each entry in the dictionary will be a list of two lists: wavelength and response\n",
      "                filter_dict[band] = [[], []]\n",
      "            filter_dict[band][0].append(float(wavelength))\n",
      "            filter_dict[band][1].append(float(response))"
     ],
     "language": "python",
     "metadata": {},
     "outputs": [],
     "prompt_number": 19
    },
    {
     "cell_type": "markdown",
     "metadata": {},
     "source": [
      "One source for calculating pivot wavelength is here:\n",
      "\n",
      "http://www.stsci.edu/hst/wfc3/documents/handbooks/currentIHB/c09_exposuretime04.html#328554"
     ]
    },
    {
     "cell_type": "code",
     "collapsed": false,
     "input": [
      "from scipy.integrate import simps  # to do the integration in the pivot wavelength calculations\n",
      "\n",
      "pivots = dict()\n",
      "\n",
      "for band in filter_dict:\n",
      "    wavelengths = filter_dict[band][0]\n",
      "    responses = filter_dict[band][1]\n",
      "    numerator = [r * w for (w, r) in zip(wavelengths, responses)]\n",
      "    denominator = [r / w for (w, r) in zip(wavelengths, responses)]\n",
      "    pivot = np.sqrt((simps(numerator, wavelengths))/simps(denominator, wavelengths))\n",
      "    pivots[band] = pivot"
     ],
     "language": "python",
     "metadata": {},
     "outputs": [],
     "prompt_number": 23
    },
    {
     "cell_type": "markdown",
     "metadata": {},
     "source": [
      "We now have pivot wavelengths for all the filters we need. Let's plot them up."
     ]
    },
    {
     "cell_type": "code",
     "collapsed": false,
     "input": [
      "plt.axvline(ch1, c=\"r\")\n",
      "plt.text(ch1, 0.7, \"ch1\", horizontalalignment=\"center\")\n",
      "plt.axvline(ch2, c=\"r\")\n",
      "plt.text(ch2, 0.7, \"ch2\", horizontalalignment=\"center\")\n",
      "for band in pivots:\n",
      "    z = 0\n",
      "    plt.axvline(pivots[band]*(1+z))\n",
      "    plt.text(pivots[band]*(1+z), 0.2, band, horizontalalignment=\"center\")\n",
      "    \n",
      "plt.xscale(\"log\")\n",
      "\n"
     ],
     "language": "python",
     "metadata": {},
     "outputs": [
      {
       "metadata": {},
       "output_type": "display_data",
       "png": "[encoded data removed]",
       "text": [
        "<matplotlib.figure.Figure at 0x109f2d150>"
       ]
      }
     ],
     "prompt_number": 70
    },
    {
     "cell_type": "markdown",
     "metadata": {},
     "source": [
      "We now find redshifts at which ch1 and ch2 see color combinations that Eisenhardt measured the slope of Coma in (Table 13 of the paper). \n",
      "\n",
      "These are:\n",
      "U-B,\n",
      "U-V,\n",
      "B-V,\n",
      "B-R,\n",
      "V-I,\n",
      "V-K,\n",
      "I-K,\n",
      "J-K\n",
      "\n",
      "====================================="
     ]
    },
    {
     "cell_type": "markdown",
     "metadata": {},
     "source": [
      "Here's how I will calculate these redshifts.\n",
      "The equivalent redshift is the redshift at which distant_filter is observing the same rest frame wavelength as coma_filter.\n",
      "\n",
      "    1 + z = observed / emitted\n",
      "where observed will be the effective wavelength of the filter used, and emitted is the rest frame wavelength.\n",
      "\n",
      "For Coma:\n",
      "\n",
      "    1 + z_Coma = coma_filter / emitted\n",
      "where z_Coma = 0.0023\n",
      "\n",
      "For distant object:\n",
      "\n",
      "    1 + z = distant_filter / emitted\n",
      "    \n",
      "Since we want these two filters to observe the same rest frame, emitted wavelengths are the same. We can just solve the Coma expression for emitted, and plug it in.\n",
      "\n",
      "    1 + z = distant_filter / (coma_filter / (1 + z_Coma))\n",
      "and rearrange\n",
      "\n",
      "    z = {[distant_filter * (1 + z_Coma)] / coma_filter } - 1\n"
     ]
    },
    {
     "cell_type": "code",
     "collapsed": false,
     "input": [
      "def equivalent_redshift(coma_filter_effective, distant_filter_effective):\n",
      "    return ((distant_filter_effective * (1 + 0.023)) / coma_filter_effective) - 1 "
     ],
     "language": "python",
     "metadata": {},
     "outputs": [],
     "prompt_number": 26
    },
    {
     "cell_type": "markdown",
     "metadata": {},
     "source": [
      "for U-B:"
     ]
    },
    {
     "cell_type": "code",
     "collapsed": false,
     "input": [
      "U1 = equivalent_redshift(pivots[\"U\"], ch1)\n",
      "B2 = equivalent_redshift(pivots[\"B\"], ch2)\n",
      "ave = (U1 + B2)/2.0\n",
      "\n",
      "U1, B2, ave"
     ],
     "language": "python",
     "metadata": {},
     "outputs": [
      {
       "metadata": {},
       "output_type": "pyout",
       "prompt_number": 60,
       "text": [
        "(8.7320351963317133, 9.6799267727725429, 9.2059809845521272)"
       ]
      }
     ],
     "prompt_number": 60
    },
    {
     "cell_type": "markdown",
     "metadata": {},
     "source": [
      "The redshift at which ch1 sees U and ch2 sees B aren't very close, so this isn't very useable."
     ]
    },
    {
     "cell_type": "markdown",
     "metadata": {},
     "source": [
      "for U-V"
     ]
    },
    {
     "cell_type": "code",
     "collapsed": false,
     "input": [
      "U1 = equivalent_redshift(pivots[\"U\"], ch1)\n",
      "V2 = equivalent_redshift(pivots[\"V\"], ch2)\n",
      "ave = (U1 + V2)/2.0\n",
      "\n",
      "U1, V2, ave"
     ],
     "language": "python",
     "metadata": {},
     "outputs": [
      {
       "metadata": {},
       "output_type": "pyout",
       "prompt_number": 61,
       "text": [
        "(8.7320351963317133, 7.4889008552921492, 8.1104680258119313)"
       ]
      }
     ],
     "prompt_number": 61
    },
    {
     "cell_type": "markdown",
     "metadata": {},
     "source": [
      "Not good enough to use. "
     ]
    },
    {
     "cell_type": "raw",
     "metadata": {},
     "source": [
      "for B-V:"
     ]
    },
    {
     "cell_type": "code",
     "collapsed": false,
     "input": [
      "B1 = equivalent_redshift(pivots[\"B\"], ch1)\n",
      "V2 = equivalent_redshift(pivots[\"V\"], ch2)\n",
      "ave = (B1 + V2)/2.0\n",
      "\n",
      "B1, V2, ave"
     ],
     "language": "python",
     "metadata": {},
     "outputs": [
      {
       "metadata": {},
       "output_type": "pyout",
       "prompt_number": 63,
       "text": [
        "(7.437901274561229, 7.4889008552921492, 7.4634010649266891)"
       ]
      }
     ],
     "prompt_number": 63
    },
    {
     "cell_type": "markdown",
     "metadata": {},
     "source": [
      "This is good!"
     ]
    },
    {
     "cell_type": "markdown",
     "metadata": {},
     "source": [
      "B-R:"
     ]
    },
    {
     "cell_type": "code",
     "collapsed": false,
     "input": [
      "B1 = equivalent_redshift(pivots[\"B\"], ch1)\n",
      "R2 = equivalent_redshift(pivots[\"R\"], ch2)\n",
      "ave = (B1 + R2)/2.0\n",
      "\n",
      "B1, R2, ave"
     ],
     "language": "python",
     "metadata": {},
     "outputs": [
      {
       "metadata": {},
       "output_type": "pyout",
       "prompt_number": 64,
       "text": [
        "(7.437901274561229, 6.142627931958538, 6.7902646032598835)"
       ]
      }
     ],
     "prompt_number": 64
    },
    {
     "cell_type": "markdown",
     "metadata": {},
     "source": [
      "not good enough."
     ]
    },
    {
     "cell_type": "markdown",
     "metadata": {},
     "source": [
      "V-I:"
     ]
    },
    {
     "cell_type": "code",
     "collapsed": false,
     "input": [
      "V1 = equivalent_redshift(pivots[\"V\"], ch1)\n",
      "I2 = equivalent_redshift(pivots[\"I\"], ch2)\n",
      "ave = (V1 + I2)/2.0\n",
      "\n",
      "V1, I2, ave"
     ],
     "language": "python",
     "metadata": {},
     "outputs": [
      {
       "metadata": {},
       "output_type": "pyout",
       "prompt_number": 65,
       "text": [
        "(5.7068350626807298, 4.7063094271122115, 5.2065722448964706)"
       ]
      }
     ],
     "prompt_number": 65
    },
    {
     "cell_type": "markdown",
     "metadata": {},
     "source": [
      "not good enough"
     ]
    },
    {
     "cell_type": "markdown",
     "metadata": {},
     "source": [
      "V-K:"
     ]
    },
    {
     "cell_type": "code",
     "collapsed": false,
     "input": [
      "V1 = equivalent_redshift(pivots[\"V\"], ch1)\n",
      "K2 = equivalent_redshift(pivots[\"K_S_\"], ch2)\n",
      "ave = (V1 + K2)/2.0\n",
      "\n",
      "V1, K2, ave"
     ],
     "language": "python",
     "metadata": {},
     "outputs": [
      {
       "metadata": {},
       "output_type": "pyout",
       "prompt_number": 66,
       "text": [
        "(5.7068350626807298, 1.133470109911511, 3.4201525862961204)"
       ]
      }
     ],
     "prompt_number": 66
    },
    {
     "cell_type": "markdown",
     "metadata": {},
     "source": [
      "definitely bad"
     ]
    },
    {
     "cell_type": "markdown",
     "metadata": {},
     "source": [
      "I-K:"
     ]
    },
    {
     "cell_type": "code",
     "collapsed": false,
     "input": [
      "I1 = equivalent_redshift(pivots[\"I\"], ch1)\n",
      "K2 = equivalent_redshift(pivots[\"K_S_\"], ch2)\n",
      "ave = (I1 + K2)/2.0\n",
      "\n",
      "I1, K2, ave"
     ],
     "language": "python",
     "metadata": {},
     "outputs": [
      {
       "metadata": {},
       "output_type": "pyout",
       "prompt_number": 67,
       "text": [
        "(3.5083900491549143, 1.133470109911511, 2.3209300795332126)"
       ]
      }
     ],
     "prompt_number": 67
    },
    {
     "cell_type": "markdown",
     "metadata": {},
     "source": [
      "Still bad"
     ]
    },
    {
     "cell_type": "markdown",
     "metadata": {},
     "source": [
      "J-K:"
     ]
    },
    {
     "cell_type": "code",
     "collapsed": false,
     "input": [
      "J1 = equivalent_redshift(pivots[\"J\"], ch1)\n",
      "K2 = equivalent_redshift(pivots[\"K_S_\"], ch2)\n",
      "ave = (J1 + K2)/2.0\n",
      "\n",
      "J1, K2, ave"
     ],
     "language": "python",
     "metadata": {},
     "outputs": [
      {
       "metadata": {},
       "output_type": "pyout",
       "prompt_number": 68,
       "text": [
        "(1.9503170350210692, 1.133470109911511, 1.5418935724662901)"
       ]
      }
     ],
     "prompt_number": 68
    },
    {
     "cell_type": "markdown",
     "metadata": {},
     "source": [
      "Turns out none of them were really useful. Not sure what to do from here."
     ]
    },
    {
     "cell_type": "code",
     "collapsed": false,
     "input": [],
     "language": "python",
     "metadata": {},
     "outputs": []
    }
   ],
   "metadata": {}
  }
 ]
}