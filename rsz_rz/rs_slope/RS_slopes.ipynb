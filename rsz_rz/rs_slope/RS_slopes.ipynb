{
 "cells": [
  {
   "cell_type": "code",
   "execution_count": 12,
   "metadata": {
    "collapsed": true
   },
   "outputs": [],
   "source": [
    "import numpy as np"
   ]
  },
  {
   "cell_type": "code",
   "execution_count": 13,
   "metadata": {
    "collapsed": true
   },
   "outputs": [],
   "source": [
    "def equivalent_redshift(coma_filter, distant_filter):\n",
    "    \"\"\"\n",
    "    Find the distant redshift at which a given filter observing at that redshift will see the same rest frame as the\n",
    "    given filter observing Coma.\n",
    "\n",
    "    Used to find the redshifts at which the slope of the red sequence will be the same as in Eisenhardt 2007.\n",
    "\n",
    "    :param coma_filter: filter that observed Coma\n",
    "    :param distant_filte1: filter observing the distant object\n",
    "    :return: redshift where the rest frame is equivalent for both filters\n",
    "\n",
    "    Work on how I got this:\n",
    "    The equivalent redshift is the redshift at which distant_filter is observing the same rest frame wavelength as\n",
    "    coma_filter.\n",
    "\n",
    "    1 + z = observed / emitted  [both are wavelengths]\n",
    "    emitted = observed / (1 + z)  [where observed will be the effective wavelength of the filter used]\n",
    "\n",
    "    For Coma:\n",
    "    emitted = coma_filter / (1 + z_Coma)\n",
    "\n",
    "    For distant object:\n",
    "    1 + z = distant_filter / emitted\n",
    "    Can now plug in the emitted wavelength from Coma (since we want effective to be the same for both)\n",
    "    1 + z = distant_filter / (coma_filter / (1 + z_Coma))\n",
    "    and rearrange\n",
    "    z = {[distant_filter * (1 + z_Coma)] / coma_filter } - 1\n",
    "    \"\"\"\n",
    "\n",
    "    return ((distant_filter * (1 + 0.023)) / coma_filter) - 1  # Since z_coma = 0.023"
   ]
  },
  {
   "cell_type": "code",
   "execution_count": 14,
   "metadata": {
    "collapsed": true
   },
   "outputs": [],
   "source": [
    "# set pivot wavelengths of filters\n",
    "sloan_r = 6175\n",
    "sloan_z = 8946\n",
    "# and Eisenhardt's filters\n",
    "U = 3738.89800704\n",
    "B = 4312.33855624\n",
    "V = 5425.37376571\n",
    "R = 6447.97131234\n",
    "I = 8070.97136744\n",
    "z = 9157.72572957\n",
    "J = 12333.2803113\n",
    "H = 16494.0169115\n",
    "K = 21587.1128384"
   ]
  },
  {
   "cell_type": "code",
   "execution_count": 15,
   "metadata": {
    "collapsed": false
   },
   "outputs": [
    {
     "name": "stdout",
     "output_type": "stream",
     "text": [
      "0.689541942066 0.686843781684 0.688192861875\n"
     ]
    }
   ],
   "source": [
    "# find redshift at which r-z sees U-V\n",
    "r_to_U = equivalent_redshift(U, sloan_r)\n",
    "z_to_V = equivalent_redshift(V, sloan_z)\n",
    "UV_redshift = (r_to_U + z_to_V) / 2.0\n",
    "print r_to_U, z_to_V, UV_redshift"
   ]
  },
  {
   "cell_type": "code",
   "execution_count": 16,
   "metadata": {
    "collapsed": false
   },
   "outputs": [
    {
     "name": "stdout",
     "output_type": "stream",
     "text": [
      "0.164348351431 0.133910353953 0.149129352692\n"
     ]
    }
   ],
   "source": [
    "# find redshift at which r-z sees V-I\n",
    "r_to_V = equivalent_redshift(V, sloan_r)\n",
    "z_to_I = equivalent_redshift(I, sloan_z)\n",
    "VI_redshift = (r_to_V + z_to_I) / 2.0\n",
    "print r_to_V, z_to_I, VI_redshift"
   ]
  },
  {
   "cell_type": "code",
   "execution_count": 17,
   "metadata": {
    "collapsed": false
   },
   "outputs": [
    {
     "name": "stdout",
     "output_type": "stream",
     "text": [
      "0.464872230604 0.419323622375 0.44209792649\n"
     ]
    }
   ],
   "source": [
    "# find redshift at which r-z sees B-R\n",
    "r_to_B = equivalent_redshift(B, sloan_r)\n",
    "z_to_R = equivalent_redshift(R, sloan_z)\n",
    "BR_redshift = (r_to_B + z_to_R) / 2.0\n",
    "print r_to_B, z_to_R, BR_redshift"
   ]
  },
  {
   "cell_type": "code",
   "execution_count": 18,
   "metadata": {
    "collapsed": false
   },
   "outputs": [
    {
     "name": "stdout",
     "output_type": "stream",
     "text": [
      "[-0.14489063 -0.00343316]\n"
     ]
    }
   ],
   "source": [
    "zs = [VI_redshift, BR_redshift, UV_redshift]\n",
    "slopes = [-0.029, -0.055, -0.122] # in order of V-I, B-R, U-V\n",
    "# Make a list of known errors of slopes\n",
    "slope_errors = [0.005, 0.006, 0.01]\n",
    "weights = [1/error for error in slope_errors]\n",
    "\n",
    "# TODO: do this with cubic splines, rather than a dumb fit.\n",
    "fit = np.polyfit(zs, slopes, 1, w=weights)\n",
    "# fit is returned with highest powers first\n",
    "print fit"
   ]
  },
  {
   "cell_type": "code",
   "execution_count": null,
   "metadata": {
    "collapsed": true
   },
   "outputs": [],
   "source": []
  }
 ],
 "metadata": {
  "kernelspec": {
   "display_name": "Python 2",
   "language": "python",
   "name": "python2"
  },
  "language_info": {
   "codemirror_mode": {
    "name": "ipython",
    "version": 2
   },
   "file_extension": ".py",
   "mimetype": "text/x-python",
   "name": "python",
   "nbconvert_exporter": "python",
   "pygments_lexer": "ipython2",
   "version": "2.7.6"
  }
 },
 "nbformat": 4,
 "nbformat_minor": 0
}
