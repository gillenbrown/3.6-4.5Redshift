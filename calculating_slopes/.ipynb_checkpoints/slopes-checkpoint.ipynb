{
 "metadata": {
  "name": "",
  "signature": "sha256:d6d66471decc03bebdce1ffaf46a2f0addfcc239d0335b3c7c4125bd53dae5ac"
 },
 "nbformat": 3,
 "nbformat_minor": 0,
 "worksheets": [
  {
   "cells": [
    {
     "cell_type": "markdown",
     "metadata": {},
     "source": [
      "This notebook will find the redshifts at which ch1-ch2 sees various colors as used by Eisenhardt 2007, and then determine what the slope is at those redshifts. These values are copied by hand into the code, so they don't have to be calculated each time the code is run."
     ]
    },
    {
     "cell_type": "code",
     "collapsed": false,
     "input": [
      "def equivalent_redshift(coma_filter, distant_filter):\n",
      "    \"\"\"\n",
      "    Find the distant redshift at which a given filter observing at that redshift will see the same rest frame as the\n",
      "    given filter observing Coma.\n",
      "\n",
      "    Used to find the redshifts at which the slope of the red sequence will be the same as in Eisenhardt 2007.\n",
      "\n",
      "    :param coma_filter: filter that observed Coma\n",
      "    :param distant_filte1: filter observing the distant object\n",
      "    :return: redshift where the rest frame is equivalent for both filters\n",
      "\n",
      "    Work on how I got this:\n",
      "    The equivalent redshift is the redshift at which distant_filter is observing the same rest frame wavelength as\n",
      "    coma_filter.\n",
      "\n",
      "    1 + z = observed / emitted  [both are wavelengths]\n",
      "    emitted = observed / (1 + z)  [where observed will be the effective wavelength of the filter used]\n",
      "\n",
      "    For Coma:\n",
      "    emitted = coma_filter / (1 + z_Coma)\n",
      "\n",
      "    For distant object:\n",
      "    1 + z = distant_filter / emitted\n",
      "    Can now plug in the emitted wavelength from Coma (since we want effective to be the same for both)\n",
      "    1 + z = distant_filter / (coma_filter / (1 + z_Coma))\n",
      "    and rearrange\n",
      "    z = {[distant_filter * (1 + z_Coma)] / coma_filter } - 1\n",
      "    \"\"\"\n",
      "\n",
      "    return ((distant_filter * (1 + 0.023)) / coma_filter) - 1"
     ],
     "language": "python",
     "metadata": {},
     "outputs": [],
     "prompt_number": 1
    },
    {
     "cell_type": "markdown",
     "metadata": {},
     "source": [
      "I'll use the pivot wavelength for ch1 and ch2 as found here: http://www.baryons.org/ezgal/filters.php"
     ]
    },
    {
     "cell_type": "code",
     "collapsed": false,
     "input": [
      "ch1 = 35569 \n",
      "ch2 = 45020 "
     ],
     "language": "python",
     "metadata": {},
     "outputs": [],
     "prompt_number": 2
    },
    {
     "cell_type": "markdown",
     "metadata": {},
     "source": []
    }
   ],
   "metadata": {}
  }
 ]
}